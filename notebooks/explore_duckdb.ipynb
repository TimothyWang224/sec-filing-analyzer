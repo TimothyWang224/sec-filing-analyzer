{
 "cells": [
  {
   "cell_type": "markdown",
   "metadata": {},
   "source": [
    "# DuckDB Explorer Notebook\n",
    "\n",
    "This notebook provides an interactive way to explore the tables in your DuckDB database."
   ]
  },
  {
   "cell_type": "code",
   "execution_count": null,
   "metadata": {},
   "outputs": [],
   "source": [
    "import duckdb\n",
    "import matplotlib.pyplot as plt\n",
    "import pandas as pd\n",
    "import seaborn as sns\n",
    "\n",
    "# Set up plotting\n",
    "%matplotlib inline\n",
    "plt.style.use(\"ggplot\")\n",
    "sns.set(style=\"whitegrid\")"
   ]
  },
  {
   "cell_type": "markdown",
   "metadata": {},
   "source": [
    "## Connect to the Database\n",
    "\n",
    "First, let's connect to the DuckDB database:"
   ]
  },
  {
   "cell_type": "code",
   "execution_count": null,
   "metadata": {},
   "outputs": [],
   "source": [
    "# Update this path to your DuckDB database file\n",
    "DB_PATH = \"../data/financial_data.duckdb\"\n",
    "\n",
    "# Connect to the database\n",
    "conn = duckdb.connect(DB_PATH)\n",
    "print(f\"Connected to DuckDB database: {DB_PATH}\")"
   ]
  },
  {
   "cell_type": "markdown",
   "metadata": {},
   "source": [
    "## List Tables\n",
    "\n",
    "Let's list all the tables in the database:"
   ]
  },
  {
   "cell_type": "code",
   "execution_count": null,
   "metadata": {},
   "outputs": [],
   "source": [
    "# List all tables\n",
    "tables = conn.execute(\"SHOW TABLES\").fetchall()\n",
    "tables_df = pd.DataFrame(tables, columns=[\"Table Name\"])\n",
    "tables_df"
   ]
  },
  {
   "cell_type": "markdown",
   "metadata": {},
   "source": [
    "## Explore Table Schema\n",
    "\n",
    "Let's explore the schema of each table:"
   ]
  },
  {
   "cell_type": "code",
   "execution_count": null,
   "metadata": {},
   "outputs": [],
   "source": [
    "# Function to get table schema\n",
    "def get_table_schema(table_name):\n",
    "    schema = conn.execute(f\"PRAGMA table_info('{table_name}')\").fetchall()\n",
    "    schema_df = pd.DataFrame(\n",
    "        schema, columns=[\"cid\", \"name\", \"type\", \"notnull\", \"dflt_value\", \"pk\"]\n",
    "    )\n",
    "    schema_df[\"nullable\"] = ~schema_df[\"notnull\"].astype(bool)\n",
    "    schema_df[\"primary_key\"] = schema_df[\"pk\"].astype(bool)\n",
    "    return schema_df[[\"name\", \"type\", \"nullable\", \"dflt_value\", \"primary_key\"]]\n",
    "\n",
    "\n",
    "# Get schema for each table\n",
    "for table in tables:\n",
    "    table_name = table[0]\n",
    "    print(f\"\\n## Schema for '{table_name}'\")\n",
    "    schema_df = get_table_schema(table_name)\n",
    "    display(schema_df)\n",
    "\n",
    "    # Show row count\n",
    "    count = conn.execute(f\"SELECT COUNT(*) FROM '{table_name}'\").fetchone()[0]\n",
    "    print(f\"Row count: {count}\")"
   ]
  },
  {
   "cell_type": "markdown",
   "metadata": {},
   "source": [
    "## Sample Data\n",
    "\n",
    "Let's look at sample data from each table:"
   ]
  },
  {
   "cell_type": "code",
   "execution_count": null,
   "metadata": {},
   "outputs": [],
   "source": [
    "# Function to get sample data\n",
    "def get_sample_data(table_name, limit=10):\n",
    "    sample = conn.execute(f\"SELECT * FROM '{table_name}' LIMIT {limit}\").fetchall()\n",
    "    columns = [\n",
    "        col[1] for col in conn.execute(f\"PRAGMA table_info('{table_name}')\").fetchall()\n",
    "    ]\n",
    "    return pd.DataFrame(sample, columns=columns)\n",
    "\n",
    "\n",
    "# Get sample data for each table\n",
    "for table in tables:\n",
    "    table_name = table[0]\n",
    "    print(f\"\\n## Sample data from '{table_name}'\")\n",
    "    sample_df = get_sample_data(table_name)\n",
    "    display(sample_df)"
   ]
  },
  {
   "cell_type": "markdown",
   "metadata": {},
   "source": [
    "## Custom Queries\n",
    "\n",
    "You can run custom SQL queries against the database:"
   ]
  },
  {
   "cell_type": "code",
   "execution_count": null,
   "metadata": {},
   "outputs": [],
   "source": [
    "# Example: Get the number of filings per company\n",
    "query = \"\"\"\n",
    "SELECT \n",
    "    c.ticker, \n",
    "    c.name, \n",
    "    COUNT(f.filing_id) AS filing_count\n",
    "FROM \n",
    "    companies c\n",
    "LEFT JOIN \n",
    "    filings f ON c.ticker = f.ticker\n",
    "GROUP BY \n",
    "    c.ticker, c.name\n",
    "ORDER BY \n",
    "    filing_count DESC\n",
    "\"\"\"\n",
    "\n",
    "result = conn.execute(query).fetchdf()\n",
    "result"
   ]
  },
  {
   "cell_type": "markdown",
   "metadata": {},
   "source": [
    "## Financial Data Analysis\n",
    "\n",
    "Let's analyze some financial data:"
   ]
  },
  {
   "cell_type": "code",
   "execution_count": null,
   "metadata": {},
   "outputs": [],
   "source": [
    "# Example: Get revenue and net income for a company over time\n",
    "query = \"\"\"\n",
    "SELECT \n",
    "    ticker,\n",
    "    metric_name,\n",
    "    end_date,\n",
    "    value\n",
    "FROM \n",
    "    time_series_metrics\n",
    "WHERE \n",
    "    ticker = 'MSFT' AND\n",
    "    metric_name IN ('Revenue', 'NetIncome') AND\n",
    "    period_type = 'yearly'\n",
    "ORDER BY \n",
    "    metric_name, end_date\n",
    "\"\"\"\n",
    "\n",
    "result = conn.execute(query).fetchdf()\n",
    "result"
   ]
  },
  {
   "cell_type": "markdown",
   "metadata": {},
   "source": [
    "## Visualize Financial Data\n",
    "\n",
    "Let's visualize the financial data:"
   ]
  },
  {
   "cell_type": "code",
   "execution_count": null,
   "metadata": {},
   "outputs": [],
   "source": [
    "# Pivot the data for plotting\n",
    "if not result.empty:\n",
    "    pivot_df = result.pivot(index=\"end_date\", columns=\"metric_name\", values=\"value\")\n",
    "\n",
    "    # Plot the data\n",
    "    fig, ax = plt.subplots(figsize=(12, 6))\n",
    "    pivot_df.plot(kind=\"bar\", ax=ax)\n",
    "\n",
    "    plt.title(\"Microsoft Financial Performance\")\n",
    "    plt.xlabel(\"Year\")\n",
    "    plt.ylabel(\"Value (USD)\")\n",
    "    plt.xticks(rotation=45)\n",
    "    plt.legend(title=\"Metric\")\n",
    "    plt.tight_layout()\n",
    "    plt.show()\n",
    "else:\n",
    "    print(\"No data available for visualization\")"
   ]
  },
  {
   "cell_type": "markdown",
   "metadata": {},
   "source": [
    "## Compare Companies\n",
    "\n",
    "Let's compare financial metrics across companies:"
   ]
  },
  {
   "cell_type": "code",
   "execution_count": null,
   "metadata": {},
   "outputs": [],
   "source": [
    "# Example: Compare revenue for multiple companies\n",
    "query = \"\"\"\n",
    "SELECT \n",
    "    ticker,\n",
    "    end_date,\n",
    "    value\n",
    "FROM \n",
    "    time_series_metrics\n",
    "WHERE \n",
    "    metric_name = 'Revenue' AND\n",
    "    period_type = 'yearly' AND\n",
    "    ticker IN ('MSFT', 'AAPL', 'GOOGL')\n",
    "ORDER BY \n",
    "    ticker, end_date\n",
    "\"\"\"\n",
    "\n",
    "result = conn.execute(query).fetchdf()\n",
    "result"
   ]
  },
  {
   "cell_type": "code",
   "execution_count": null,
   "metadata": {},
   "outputs": [],
   "source": [
    "# Pivot and plot the comparison\n",
    "if not result.empty:\n",
    "    pivot_df = result.pivot(index=\"end_date\", columns=\"ticker\", values=\"value\")\n",
    "\n",
    "    # Plot the data\n",
    "    fig, ax = plt.subplots(figsize=(12, 6))\n",
    "    pivot_df.plot(kind=\"bar\", ax=ax)\n",
    "\n",
    "    plt.title(\"Revenue Comparison\")\n",
    "    plt.xlabel(\"Year\")\n",
    "    plt.ylabel(\"Revenue (USD)\")\n",
    "    plt.xticks(rotation=45)\n",
    "    plt.legend(title=\"Company\")\n",
    "    plt.tight_layout()\n",
    "    plt.show()\n",
    "else:\n",
    "    print(\"No data available for visualization\")"
   ]
  },
  {
   "cell_type": "markdown",
   "metadata": {},
   "source": [
    "## Close Connection\n",
    "\n",
    "Finally, let's close the database connection:"
   ]
  },
  {
   "cell_type": "code",
   "execution_count": null,
   "metadata": {},
   "outputs": [],
   "source": [
    "# Close the connection\n",
    "conn.close()\n",
    "print(\"Database connection closed\")"
   ]
  }
 ],
 "metadata": {
  "kernelspec": {
   "display_name": "Python 3",
   "language": "python",
   "name": "python3"
  },
  "language_info": {
   "codemirror_mode": {
    "name": "ipython",
    "version": 3
   },
   "file_extension": ".py",
   "mimetype": "text/x-python",
   "name": "python",
   "nbconvert_exporter": "python",
   "pygments_lexer": "ipython3",
   "version": "3.9.0"
  }
 },
 "nbformat": 4,
 "nbformat_minor": 4
}